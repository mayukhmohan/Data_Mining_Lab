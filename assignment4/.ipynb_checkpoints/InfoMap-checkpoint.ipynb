{
 "cells": [
  {
   "cell_type": "code",
   "execution_count": 18,
   "metadata": {},
   "outputs": [
    {
     "ename": "NameError",
     "evalue": "name 'GraphBase' is not defined",
     "output_type": "error",
     "traceback": [
      "\u001b[1;31m---------------------------------------------------------------------------\u001b[0m",
      "\u001b[1;31mNameError\u001b[0m                                 Traceback (most recent call last)",
      "\u001b[1;32m<ipython-input-18-4996eb200177>\u001b[0m in \u001b[0;36m<module>\u001b[1;34m()\u001b[0m\n\u001b[0;32m     32\u001b[0m \u001b[0mf\u001b[0m\u001b[1;33m.\u001b[0m\u001b[0mclose\u001b[0m\u001b[1;33m(\u001b[0m\u001b[1;33m)\u001b[0m\u001b[1;33m\u001b[0m\u001b[0m\n\u001b[0;32m     33\u001b[0m \u001b[1;33m\u001b[0m\u001b[0m\n\u001b[1;32m---> 34\u001b[1;33m \u001b[0mg1\u001b[0m\u001b[1;33m=\u001b[0m\u001b[0mGraphBase\u001b[0m\u001b[1;33m.\u001b[0m\u001b[0mRead_Ncol\u001b[0m\u001b[1;33m(\u001b[0m\u001b[1;34m\"1.txt\"\u001b[0m\u001b[1;33m,\u001b[0m\u001b[0mnames\u001b[0m\u001b[1;33m=\u001b[0m\u001b[1;33m(\u001b[0m\u001b[1;34m\"node1\"\u001b[0m\u001b[1;33m,\u001b[0m\u001b[1;34m\"node2\"\u001b[0m\u001b[1;33m,\u001b[0m\u001b[1;34m\"weights\"\u001b[0m\u001b[1;33m)\u001b[0m\u001b[1;33m,\u001b[0m\u001b[0mdirected\u001b[0m\u001b[1;33m=\u001b[0m\u001b[1;32mFalse\u001b[0m\u001b[1;33m)\u001b[0m\u001b[1;33m\u001b[0m\u001b[0m\n\u001b[0m\u001b[0;32m     35\u001b[0m \u001b[1;33m\u001b[0m\u001b[0m\n\u001b[0;32m     36\u001b[0m \u001b[0mcomms\u001b[0m \u001b[1;33m=\u001b[0m \u001b[0mG\u001b[0m\u001b[1;33m.\u001b[0m\u001b[0mcommunity_infomap\u001b[0m\u001b[1;33m(\u001b[0m\u001b[0medge_weights\u001b[0m \u001b[1;33m=\u001b[0m \u001b[1;34m'weights'\u001b[0m\u001b[1;33m)\u001b[0m\u001b[1;33m\u001b[0m\u001b[0m\n",
      "\u001b[1;31mNameError\u001b[0m: name 'GraphBase' is not defined"
     ]
    }
   ],
   "source": [
    "from igraph import *\n",
    "import pandas as pd\n",
    "from sklearn.cluster import KMeans\n",
    "import numpy as np\n",
    "import matplotlib.pyplot as plt\n",
    "import math\n",
    "\n",
    "# Home Directory of the dataset\n",
    "root = \"\"\n",
    "\n",
    "def temp():\n",
    "    dataset = pd.read_csv(root + \"iris.csv\")\n",
    "    return dataset\n",
    "\n",
    "def solve(p, q):\n",
    "    ans = 0\n",
    "    for i in range(len(p)):\n",
    "        ans += ((float(p[i]) - float(q[i])) * (float(p[i]) - float(q[i])))\n",
    "    return ans\n",
    "\n",
    "dataset = temp()\n",
    "dataset = dataset.iloc[:, :-1].values\n",
    "(N, M) = dataset.shape\n",
    "\n",
    "f = open('1.txt','w')\n",
    "\n",
    "for i in range(N):\n",
    "    for j in range(i + 1, N):\n",
    "        s = str(i) + \" \" + str(j) + \" \" + str(solve(dataset[i][:], dataset[j][:]))\n",
    "        f.write(s)\n",
    "        \n",
    "f.close()\n",
    "\n",
    "g1=Graph.Read_Ncol(\"1.txt\",names=(\"node1\",\"node2\",\"weights\"),directed=False)\n",
    "\n",
    "comms = G.community_infomap(edge_weights = 'weights')"
   ]
  },
  {
   "cell_type": "code",
   "execution_count": 12,
   "metadata": {},
   "outputs": [
    {
     "name": "stdout",
     "output_type": "stream",
     "text": [
      "Requirement already satisfied: networkX in d:\\anaconda3\\lib\\site-packages (2.0)\n",
      "Requirement already satisfied: decorator>=4.1.0 in d:\\anaconda3\\lib\\site-packages (from networkX) (4.1.2)\n"
     ]
    },
    {
     "name": "stderr",
     "output_type": "stream",
     "text": [
      "You are using pip version 19.0.1, however version 19.0.3 is available.\n",
      "You should consider upgrading via the 'python -m pip install --upgrade pip' command.\n"
     ]
    }
   ],
   "source": [
    "!pip install networkX"
   ]
  },
  {
   "cell_type": "code",
   "execution_count": 16,
   "metadata": {},
   "outputs": [
    {
     "name": "stdout",
     "output_type": "stream",
     "text": [
      "Collecting igraph==0.1.8\n",
      "  Downloading https://files.pythonhosted.org/packages/8b/cf/17b2dc23c822691e3b98e451e62860bbac2c6ac9347f2d831e0f8876ce5a/igraph-0.1.8-py2.py3-none-any.whl (119kB)\n",
      "Requirement already satisfied: ipython in d:\\anaconda3\\lib\\site-packages (from igraph==0.1.8) (6.1.0)\n",
      "Requirement already satisfied: setuptools>=18.5 in d:\\anaconda3\\lib\\site-packages (from ipython->igraph==0.1.8) (39.1.0)\n",
      "Requirement already satisfied: jedi>=0.10 in d:\\anaconda3\\lib\\site-packages (from ipython->igraph==0.1.8) (0.10.2)\n",
      "Requirement already satisfied: decorator in d:\\anaconda3\\lib\\site-packages (from ipython->igraph==0.1.8) (4.1.2)\n",
      "Requirement already satisfied: pickleshare in d:\\anaconda3\\lib\\site-packages (from ipython->igraph==0.1.8) (0.7.4)\n",
      "Requirement already satisfied: simplegeneric>0.8 in d:\\anaconda3\\lib\\site-packages (from ipython->igraph==0.1.8) (0.8.1)\n",
      "Requirement already satisfied: traitlets>=4.2 in d:\\anaconda3\\lib\\site-packages (from ipython->igraph==0.1.8) (4.3.2)\n",
      "Requirement already satisfied: prompt_toolkit<2.0.0,>=1.0.4 in d:\\anaconda3\\lib\\site-packages (from ipython->igraph==0.1.8) (1.0.15)\n",
      "Requirement already satisfied: pygments in d:\\anaconda3\\lib\\site-packages (from ipython->igraph==0.1.8) (2.2.0)\n",
      "Requirement already satisfied: colorama in d:\\anaconda3\\lib\\site-packages (from ipython->igraph==0.1.8) (0.3.9)\n",
      "Requirement already satisfied: ipython_genutils in d:\\anaconda3\\lib\\site-packages (from traitlets>=4.2->ipython->igraph==0.1.8) (0.2.0)\n",
      "Requirement already satisfied: six in d:\\anaconda3\\lib\\site-packages (from traitlets>=4.2->ipython->igraph==0.1.8) (1.12.0)\n",
      "Requirement already satisfied: wcwidth in d:\\anaconda3\\lib\\site-packages (from prompt_toolkit<2.0.0,>=1.0.4->ipython->igraph==0.1.8) (0.1.7)\n",
      "Installing collected packages: igraph\n",
      "  Found existing installation: igraph 0.1.11\n",
      "    Uninstalling igraph-0.1.11:\n",
      "      Successfully uninstalled igraph-0.1.11\n",
      "Successfully installed igraph-0.1.8\n"
     ]
    },
    {
     "name": "stderr",
     "output_type": "stream",
     "text": [
      "You are using pip version 19.0.1, however version 19.0.3 is available.\n",
      "You should consider upgrading via the 'python -m pip install --upgrade pip' command.\n"
     ]
    }
   ],
   "source": [
    "!pip install igraph==0.1.8"
   ]
  },
  {
   "cell_type": "code",
   "execution_count": null,
   "metadata": {
    "collapsed": true
   },
   "outputs": [],
   "source": []
  }
 ],
 "metadata": {
  "kernelspec": {
   "display_name": "Python 3",
   "language": "python",
   "name": "python3"
  },
  "language_info": {
   "codemirror_mode": {
    "name": "ipython",
    "version": 3
   },
   "file_extension": ".py",
   "mimetype": "text/x-python",
   "name": "python",
   "nbconvert_exporter": "python",
   "pygments_lexer": "ipython3",
   "version": "3.6.3"
  }
 },
 "nbformat": 4,
 "nbformat_minor": 2
}
