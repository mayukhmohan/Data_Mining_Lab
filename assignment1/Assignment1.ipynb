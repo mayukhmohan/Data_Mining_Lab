{
 "cells": [
  {
   "cell_type": "code",
   "execution_count": 1,
   "metadata": {
    "collapsed": true
   },
   "outputs": [],
   "source": [
    "%matplotlib inline\n",
    "import numpy as np\n",
    "import pandas as pd\n",
    "from matplotlib import pyplot as plt\n",
    "import math"
   ]
  },
  {
   "cell_type": "code",
   "execution_count": 2,
   "metadata": {
    "collapsed": true
   },
   "outputs": [],
   "source": [
    "df = pd.read_csv('iris.csv',header = None)\n",
    "dataset = df.values\n",
    "data = dataset[:, 0:4]\n",
    "target = dataset[:, 4]"
   ]
  },
  {
   "cell_type": "code",
   "execution_count": 3,
   "metadata": {
    "collapsed": true
   },
   "outputs": [],
   "source": [
    "df[4] = pd.Categorical(df[4])\n",
    "df[4] = df[4].cat.codes\n",
    "target = df.values[:, 4]"
   ]
  },
  {
   "cell_type": "code",
   "execution_count": 4,
   "metadata": {
    "collapsed": true
   },
   "outputs": [],
   "source": [
    "'''data.mean(), data.std()'''\n",
    "mean = (sum(sum(data)))/(len(data)*len(data[0]))\n",
    "std = math.sqrt(sum(list(sum((k-mean)**2 for k in data)))/(len(data)*len(data[0])))\n",
    "maximum = max(max(k) for k in data)\n",
    "minimum = min(min(k) for k in data)"
   ]
  },
  {
   "cell_type": "code",
   "execution_count": 5,
   "metadata": {
    "collapsed": true
   },
   "outputs": [],
   "source": [
    "new_max = 1\n",
    "new_min = 0\n",
    "data_dash = list(list(((k - minimum) * (new_max - new_min))/(maximum - minimum)) for k in data)"
   ]
  },
  {
   "cell_type": "code",
   "execution_count": 6,
   "metadata": {
    "collapsed": true
   },
   "outputs": [],
   "source": [
    "def dist(A,B):\n",
    "    sum = 0\n",
    "    for i in range(0,len(A)):\n",
    "        sum += (A[i]-B[i])**2\n",
    "    return math.sqrt(sum)"
   ]
  },
  {
   "cell_type": "code",
   "execution_count": 7,
   "metadata": {
    "collapsed": true
   },
   "outputs": [],
   "source": [
    "matrix = np.zeros((len(data_dash),len(data_dash)))\n",
    "for i in range(0,len(data_dash)):\n",
    "    for j in range(0,len(data_dash)):\n",
    "        if i==j:\n",
    "            continue\n",
    "        else:\n",
    "            matrix[i][j] = dist(data_dash[i],data_dash[j])"
   ]
  },
  {
   "cell_type": "code",
   "execution_count": 8,
   "metadata": {
    "collapsed": true
   },
   "outputs": [],
   "source": [
    "cluster = []\n",
    "for i in range(0,len(data_dash)):\n",
    "    avg = np.mean(matrix[i])\n",
    "    lst = []\n",
    "    for j in range(0,len(data_dash)):\n",
    "        if(avg <= matrix[i][j]):\n",
    "            lst.append(j)\n",
    "    cluster.append(lst)"
   ]
  },
  {
   "cell_type": "code",
   "execution_count": 9,
   "metadata": {
    "collapsed": true
   },
   "outputs": [],
   "source": [
    "cluster.sort(key=len, reverse = True)\n",
    "try:\n",
    "    for i in range(len(cluster)):\n",
    "        for j in range(i+1,len(cluster)):\n",
    "            if j >= len(cluster):\n",
    "                break\n",
    "            elif(set(cluster[j]).issubset(cluster[i])):\n",
    "                del cluster[j]\n",
    "except IndexError:\n",
    "    print(j,\" \",len(cluster))"
   ]
  },
  {
   "cell_type": "code",
   "execution_count": 10,
   "metadata": {
    "collapsed": true
   },
   "outputs": [],
   "source": [
    "while(len(cluster) != 3):\n",
    "    p = np.zeros((len(cluster),len(cluster)))\n",
    "    for i in range(len(cluster)):\n",
    "        for j in range(len(cluster)):\n",
    "            if i==j:\n",
    "                continue\n",
    "            else:\n",
    "                intersection = set(cluster[i]).intersection(set(cluster[j]))\n",
    "                union = set(cluster[i]).union(set(cluster[j]))\n",
    "                p[i][j] = len(intersection)/len(union)\n",
    "    max = -1\n",
    "    for i in range(len(cluster)):\n",
    "        for j in range(len(cluster)):\n",
    "            if max <= p[i][j]:\n",
    "                max = p[i][j]\n",
    "                row = i\n",
    "                col = j\n",
    "    cluster[row] = set(cluster[row]).union(set(cluster[col]))\n",
    "    del cluster[col]"
   ]
  },
  {
   "cell_type": "code",
   "execution_count": 11,
   "metadata": {},
   "outputs": [
    {
     "data": {
      "text/plain": [
       "3"
      ]
     },
     "execution_count": 11,
     "metadata": {},
     "output_type": "execute_result"
    }
   ],
   "source": [
    "len(cluster)"
   ]
  },
  {
   "cell_type": "code",
   "execution_count": 12,
   "metadata": {},
   "outputs": [
    {
     "data": {
      "text/plain": [
       "[94, 59, 107]"
      ]
     },
     "execution_count": 12,
     "metadata": {},
     "output_type": "execute_result"
    }
   ],
   "source": [
    "[len(k) for k in cluster]"
   ]
  },
  {
   "cell_type": "code",
   "execution_count": 13,
   "metadata": {},
   "outputs": [
    {
     "data": {
      "text/plain": [
       "'cluster = np.ndarray(cluster)\\nfor i in range(len(cluster)):\\n    cluster[i] = np.ndarray(cluster[i])'"
      ]
     },
     "execution_count": 13,
     "metadata": {},
     "output_type": "execute_result"
    }
   ],
   "source": [
    "'''cluster = np.ndarray(cluster)\n",
    "for i in range(len(cluster)):\n",
    "    cluster[i] = np.ndarray(cluster[i])'''"
   ]
  },
  {
   "cell_type": "code",
   "execution_count": 14,
   "metadata": {},
   "outputs": [
    {
     "data": {
      "text/plain": [
       "set"
      ]
     },
     "execution_count": 14,
     "metadata": {},
     "output_type": "execute_result"
    }
   ],
   "source": [
    "type(cluster[0])"
   ]
  },
  {
   "cell_type": "code",
   "execution_count": 15,
   "metadata": {
    "collapsed": true
   },
   "outputs": [],
   "source": [
    "cluster_1 = list(cluster[0])\n",
    "cluster_2 = list(cluster[1])\n",
    "cluster_3 = list(cluster[2])"
   ]
  },
  {
   "cell_type": "code",
   "execution_count": 16,
   "metadata": {
    "collapsed": true
   },
   "outputs": [],
   "source": [
    "\n",
    "lst_1 = [] \n",
    "lst_2 = []\n",
    "lst_3 = []\n",
    "target = np.zeros((150,3))\n",
    "for i in cluster_1:\n",
    "    lst_1.append([data[i],i])\n",
    "    target[i][0] = 1\n",
    "for i in cluster_2:\n",
    "    lst_2.append([data[i],i])\n",
    "    target[i][1] = 2\n",
    "for i in cluster_3:\n",
    "    lst_3.append([data[i],i])\n",
    "    target[i][2] = 3\n",
    "\n",
    "lst_1 = np.array(lst_1)\n",
    "lst_2 = np.array(lst_2)\n",
    "lst_3 = np.array(lst_3)"
   ]
  },
  {
   "cell_type": "code",
   "execution_count": 17,
   "metadata": {
    "collapsed": true
   },
   "outputs": [],
   "source": [
    "l = []\n",
    "m = []\n",
    "\n",
    "for i in range(len(lst_1)):\n",
    "    l.append([lst_1[i][0][0],lst_1[i][1]])\n",
    "    m.append([lst_1[i][0][1],lst_1[i][1]])\n",
    "\n",
    "for i in range(len(lst_2)):\n",
    "    l.append([lst_2[i][0][0],lst_2[i][1]])\n",
    "    m.append([lst_2[i][0][1],lst_2[i][1]])\n",
    "    \n",
    "for i in range(len(lst_1)):\n",
    "    l.append([lst_3[i][0][0],lst_3[i][1]])\n",
    "    m.append([lst_3[i][0][1],lst_3[i][1]])\n",
    "    \n",
    "f1 = []\n",
    "i1 = []\n",
    "f2 = []\n",
    "i2 = []\n",
    "\n",
    "for i in range(len(l)):\n",
    "    f1.append(l[i][0])\n",
    "    i1.append(l[i][1])\n",
    "    \n",
    "for i in range(len(m)):\n",
    "    f2.append(m[i][0])\n",
    "    i2.append(m[i][1])\n",
    "    \n",
    "\n",
    "f1 = np.array(f1)\n",
    "f2 = np.array(f2)"
   ]
  },
  {
   "cell_type": "code",
   "execution_count": 18,
   "metadata": {},
   "outputs": [
    {
     "data": {
      "image/png": "[encoded data removed]",
      "text/plain": [
       "<Figure size 432x288 with 1 Axes>"
      ]
     },
     "metadata": {
      "needs_background": "light"
     },
     "output_type": "display_data"
    }
   ],
   "source": [
    "colors = ['b', 'g', 'r', 'c', 'm', 'y', 'k']\n",
    "color = -1\n",
    "for i in range(len(f1)):\n",
    "        if target[i1[i]][0] == 1 and target[i1[i]][1] == 2 and target[i1[i]][2] == 3:\n",
    "            color = colors[6]\n",
    "        elif target[i1[i]][0] == 1 and target[i1[i]][1] == 2 and target[i1[i]][2] == 0:\n",
    "            color = colors[5]\n",
    "        elif target[i1[i]][0] == 1 and target[i1[i]][1] == 0 and target[i1[i]][2] == 3:\n",
    "            color = colors[4]\n",
    "        elif target[i1[i]][0] == 0 and target[i1[i]][1] == 2 and target[i1[i]][2] == 3:\n",
    "            color = colors[3]\n",
    "        elif target[i1[i]][0] == 0 and target[i1[i]][1] == 0 and target[i1[i]][2] == 3:\n",
    "            color = colors[2]\n",
    "        elif target[i1[i]][0] == 0 and target[i1[i]][1] == 2 and target[i1[i]][2] == 0:\n",
    "            color = colors[1]\n",
    "        elif target[i1[i]][0] == 1 and target[i1[i]][1] == 0 and target[i1[i]][2] == 0:\n",
    "            color = colors[0]\n",
    "            \n",
    "        plt.plot(f1[i],f2[i],color,marker = 'o',markersize = 5)"
   ]
  },
  {
   "cell_type": "code",
   "execution_count": 19,
   "metadata": {},
   "outputs": [
    {
     "data": {
      "image/png": "[encoded data removed]",
      "text/plain": [
       "<Figure size 432x288 with 1 Axes>"
      ]
     },
     "metadata": {
      "needs_background": "light"
     },
     "output_type": "display_data"
    }
   ],
   "source": [
    "colors = ['b', 'g', 'r', 'c', 'm']\n",
    "color = -1\n",
    "for i in range(len(f1)):\n",
    "        if target[i1[i]][0] == 1 and target[i1[i]][1] == 2 and target[i1[i]][2] == 3:\n",
    "            color = colors[4]\n",
    "        elif target[i1[i]][0] == 1 and target[i1[i]][1] == 2 and target[i1[i]][2] == 0:\n",
    "            color = colors[3]\n",
    "        elif target[i1[i]][0] == 1 and target[i1[i]][1] == 0 and target[i1[i]][2] == 3:\n",
    "            color = colors[3]\n",
    "        elif target[i1[i]][0] == 0 and target[i1[i]][1] == 2 and target[i1[i]][2] == 3:\n",
    "            color = colors[3]\n",
    "        elif target[i1[i]][0] == 0 and target[i1[i]][1] == 0 and target[i1[i]][2] == 3:\n",
    "            color = colors[2]\n",
    "        elif target[i1[i]][0] == 0 and target[i1[i]][1] == 2 and target[i1[i]][2] == 0:\n",
    "            color = colors[1]\n",
    "        elif target[i1[i]][0] == 1 and target[i1[i]][1] == 0 and target[i1[i]][2] == 0:\n",
    "            color = colors[0]\n",
    "            \n",
    "        plt.plot(f1[i],f2[i],color,marker = 'o',markersize = 5)"
   ]
  },
  {
   "cell_type": "code",
   "execution_count": 21,
   "metadata": {},
   "outputs": [
    {
     "data": {
      "image/png": "[encoded data removed]",
      "text/plain": [
       "<Figure size 432x288 with 1 Axes>"
      ]
     },
     "metadata": {
      "needs_background": "light"
     },
     "output_type": "display_data"
    }
   ],
   "source": [
    "data_sum = [0,0,0,0]\n",
    "for i in range(len(cluster_1)):\n",
    "    for j in range(4):\n",
    "        data_sum[j] += data[cluster_1[i]][j]\n",
    "        \n",
    "for i in range(4):\n",
    "    data_sum[i] = data_sum[i]/150 \n",
    "    \n",
    "cluster_1_mean = data_sum\n",
    "\n",
    "data_sum = [0,0,0,0]\n",
    "for i in range(len(cluster_2)):\n",
    "    for j in range(4):\n",
    "        data_sum[j] += data[cluster_2[i]][j]\n",
    "        \n",
    "for i in range(4):\n",
    "    data_sum[i] = data_sum[i]/150 \n",
    "    \n",
    "cluster_2_mean = data_sum\n",
    "\n",
    "data_sum = [0,0,0,0]\n",
    "for i in range(len(cluster_3)):\n",
    "    for j in range(4):\n",
    "        data_sum[j] += data[cluster_3[i]][j]\n",
    "        \n",
    "for i in range(4):\n",
    "    data_sum[i] = data_sum[i]/150 \n",
    "    \n",
    "cluster_3_mean = data_sum\n",
    "\n",
    "mem_val  = np.ones((150,3))\n",
    "\n",
    "for i in range(len(target)):\n",
    "    d1 = 0\n",
    "    d2 = 0\n",
    "    d3 = 0\n",
    "    p1 = 0\n",
    "    p2 = 0\n",
    "    p3 = 0\n",
    "    if(target[i][0] == 1 and target[i][1] == 0 and target[i][2] == 0):\n",
    "        mem_val[i][0] = 0 \n",
    "    if(target[i][0] == 0 and target[i][1] == 2 and target[i][2] == 0):\n",
    "        mem_val[i][1] = 0\n",
    "    if(target[i][0] == 0 and target[i][1] == 0 and target[i][2] == 3):\n",
    "        mem_val[i][2] = 0\n",
    "    if(target[i][0] and target[i][1]):\n",
    "        d1 = dist(data[i],cluster_1_mean)  \n",
    "        d2 = dist(data[i],cluster_2_mean)\n",
    "        p1 = d1/(d1+d2)\n",
    "        p2 = d2/(d1+d2)\n",
    "        if p1 >= p2:\n",
    "            mem_val[i][0] = p2\n",
    "        else:\n",
    "            mem_val[i][0] = p1\n",
    "    if(target[i][1] and target[i][2]):\n",
    "        d2 = dist(data[i],cluster_2_mean)  \n",
    "        d3 = dist(data[i],cluster_3_mean)\n",
    "        p2 = d2/(d3+d2)\n",
    "        p3 = d3/(d3+d2)\n",
    "        if p2 >= p3:\n",
    "            mem_val[i][1] = p3\n",
    "        else:\n",
    "            mem_val[i][1] = p2\n",
    "    if(target[i][2] and target[i][0]):\n",
    "        d1 = dist(data[i],cluster_1_mean)  \n",
    "        d3 = dist(data[i],cluster_3_mean)\n",
    "        p1 = d1/(d1+d3)\n",
    "        p3 = d3/(d1+d3)\n",
    "        if p1 >= p3:\n",
    "            mem_val[i][2] = p3\n",
    "        else:\n",
    "            mem_val[i][2] = p1\n",
    "    if(target[i][0] and target[i][1] and target[i][2]):\n",
    "        d1 = dist(data[i],cluster_1_mean)  \n",
    "        d2 = dist(data[i],cluster_2_mean)  \n",
    "        d3 = dist(data[i],cluster_3_mean)\n",
    "        p1 = d1/(d1+d2+d3)\n",
    "        p2 = d2/(d1+d2+d3)\n",
    "        p3 = d3/(d1+d2+d3)\n",
    "        temp = min([p1,p2,p3])\n",
    "        if temp == p1 and mem_val[i][0]>temp:\n",
    "            mem_val[i][0] = temp;\n",
    "        elif temp == p2 and mem_val[i][1]>temp:\n",
    "            mem_val[i][1] = temp;\n",
    "        elif temp == p2 and mem_val[i][2]>temp:\n",
    "            mem_val[i][2] = temp;\n",
    "\n",
    "ans = np.ones((150,3))\n",
    "for i in range(len(mem_val)):\n",
    "    temp = min(mem_val[i])\n",
    "    if temp == mem_val[i][0]:\n",
    "        ans[i][0] = temp\n",
    "        ans[i][1] = 1\n",
    "        ans[i][2] = 1\n",
    "    elif temp == mem_val[i][1]:\n",
    "        ans[i][0] = 1\n",
    "        ans[i][1] = temp\n",
    "        ans[i][2] = 1\n",
    "    elif temp == mem_val[i][2]:\n",
    "        ans[i][0] = 1\n",
    "        ans[i][1] = 1\n",
    "        ans[i][2] = temp\n",
    "        \n",
    "graph = np.zeros((150,3))\n",
    "for i in range(len(ans)):\n",
    "    for j in range(3):\n",
    "        if(j==0):\n",
    "            if(ans[i][j] == 1):\n",
    "                graph[i][j] = -1\n",
    "            else:\n",
    "                graph[i][j] = 1\n",
    "        elif(j==1):\n",
    "            if(ans[i][j] == 1):\n",
    "                graph[i][j] = -1\n",
    "            else:\n",
    "                graph[i][j] = 2\n",
    "        elif(j==2):\n",
    "            if(ans[i][j] == 1):\n",
    "                graph[i][j] = -1\n",
    "            else:\n",
    "                graph[i][j] = 3\n",
    "\n",
    "\n",
    "colors = ['b', 'g', 'r']\n",
    "color = -1\n",
    "for i in range(len(graph)):\n",
    "        if graph[i][0] == 1:\n",
    "            color = colors[0]\n",
    "        elif graph[i][1] == 2:\n",
    "            color = colors[1]\n",
    "        elif graph[i][2] == 3:\n",
    "            color = colors[2]\n",
    "            \n",
    "        plt.plot(data[i][0],data[i][1],color,marker = 'o',markersize = 5)\n",
    "        \n",
    "        "
   ]
  },
  {
   "cell_type": "code",
   "execution_count": null,
   "metadata": {
    "collapsed": true
   },
   "outputs": [],
   "source": []
  }
 ],
 "metadata": {
  "kernelspec": {
   "display_name": "Python 3",
   "language": "python",
   "name": "python3"
  },
  "language_info": {
   "codemirror_mode": {
    "name": "ipython",
    "version": 3
   },
   "file_extension": ".py",
   "mimetype": "text/x-python",
   "name": "python",
   "nbconvert_exporter": "python",
   "pygments_lexer": "ipython3",
   "version": "3.6.3"
  }
 },
 "nbformat": 4,
 "nbformat_minor": 2
}
