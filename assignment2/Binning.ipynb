{
 "cells": [
  {
   "cell_type": "code",
   "execution_count": 1,
   "metadata": {
    "collapsed": true
   },
   "outputs": [],
   "source": [
    "import tensorflow"
   ]
  },
  {
   "cell_type": "code",
   "execution_count": 2,
   "metadata": {},
   "outputs": [
    {
     "name": "stderr",
     "output_type": "stream",
     "text": [
      "Using TensorFlow backend.\n"
     ]
    }
   ],
   "source": [
    "import keras"
   ]
  },
  {
   "cell_type": "code",
   "execution_count": 3,
   "metadata": {
    "collapsed": true
   },
   "outputs": [],
   "source": [
    "import numpy as np\n",
    "import matplotlib.pyplot as plt\n",
    "import pandas as pd\n",
    "%matplotlib inline"
   ]
  },
  {
   "cell_type": "code",
   "execution_count": 4,
   "metadata": {},
   "outputs": [
    {
     "data": {
      "text/plain": [
       "'data = numpy.random.random(100)\\nbins = numpy.linspace(0, 1, 10)\\ndigitized = numpy.digitize(data, bins)\\nbin_means = [data[digitized == i].mean() for i in range(1, len(bins))]'"
      ]
     },
     "execution_count": 4,
     "metadata": {},
     "output_type": "execute_result"
    }
   ],
   "source": [
    "'''data = numpy.random.random(100)\n",
    "bins = numpy.linspace(0, 1, 10)\n",
    "digitized = numpy.digitize(data, bins)\n",
    "bin_means = [data[digitized == i].mean() for i in range(1, len(bins))]'''"
   ]
  },
  {
   "cell_type": "code",
   "execution_count": 5,
   "metadata": {},
   "outputs": [],
   "source": [
    "#data"
   ]
  },
  {
   "cell_type": "code",
   "execution_count": 6,
   "metadata": {},
   "outputs": [],
   "source": [
    "#bins"
   ]
  },
  {
   "cell_type": "code",
   "execution_count": 7,
   "metadata": {},
   "outputs": [],
   "source": [
    "#digitized"
   ]
  },
  {
   "cell_type": "code",
   "execution_count": 8,
   "metadata": {},
   "outputs": [],
   "source": [
    "#bin_means"
   ]
  },
  {
   "cell_type": "code",
   "execution_count": 9,
   "metadata": {
    "collapsed": true
   },
   "outputs": [],
   "source": [
    "#bin_means = (numpy.histogram(data, bins, weights=data)[0] /\n",
    "#             numpy.histogram(data, bins)[0])"
   ]
  },
  {
   "cell_type": "code",
   "execution_count": 10,
   "metadata": {},
   "outputs": [],
   "source": [
    "#bin_means"
   ]
  },
  {
   "cell_type": "code",
   "execution_count": 11,
   "metadata": {
    "collapsed": true
   },
   "outputs": [],
   "source": [
    "data = np.sort(np.random.randint(low=1,high=100,size=50))"
   ]
  },
  {
   "cell_type": "code",
   "execution_count": 12,
   "metadata": {
    "collapsed": true
   },
   "outputs": [],
   "source": [
    "A = 10\n",
    "B = 5\n",
    "bin = np.zeros((A,B))\n",
    "\n",
    "for i in range(0,A):\n",
    "    for j in range(0,B):\n",
    "        bin[i][j] = data[i+j]\n",
    "        "
   ]
  },
  {
   "cell_type": "code",
   "execution_count": 13,
   "metadata": {
    "collapsed": true
   },
   "outputs": [],
   "source": [
    "bin_1 = np.zeros((A,B))\n",
    "bin_2 = np.zeros((A,B))\n",
    "bin_3 = np.zeros((A,B))"
   ]
  },
  {
   "cell_type": "code",
   "execution_count": 14,
   "metadata": {},
   "outputs": [
    {
     "data": {
      "text/plain": [
       "array([[ 1.,  2.,  2.,  3.,  7.],\n",
       "       [ 2.,  2.,  3.,  7.,  9.],\n",
       "       [ 2.,  3.,  7.,  9., 12.],\n",
       "       [ 3.,  7.,  9., 12., 12.],\n",
       "       [ 7.,  9., 12., 12., 15.],\n",
       "       [ 9., 12., 12., 15., 16.],\n",
       "       [12., 12., 15., 16., 19.],\n",
       "       [12., 15., 16., 19., 24.],\n",
       "       [15., 16., 19., 24., 28.],\n",
       "       [16., 19., 24., 28., 29.]])"
      ]
     },
     "execution_count": 14,
     "metadata": {},
     "output_type": "execute_result"
    }
   ],
   "source": [
    "bin"
   ]
  },
  {
   "cell_type": "code",
   "execution_count": 15,
   "metadata": {
    "collapsed": true
   },
   "outputs": [],
   "source": [
    "low = 0\n",
    "high = 0\n",
    "min = -1\n",
    "for i in range(0,A):\n",
    "    for j in range(0,B):\n",
    "        min = -1\n",
    "        low = bin[i][0]\n",
    "        high = bin[i][4]\n",
    "        bin_1[i][j] = bin[i].mean()\n",
    "        bin_2[i][j] = np.median(bin[i])\n",
    "        min = bin[i][j] - low\n",
    "        bin_3[i][j] = low\n",
    "        if((high - bin[i][j])<min):\n",
    "            min = high - bin[i][j]\n",
    "            bin_3[i][j] = high"
   ]
  },
  {
   "cell_type": "code",
   "execution_count": 16,
   "metadata": {},
   "outputs": [
    {
     "data": {
      "text/plain": [
       "array([[ 3. ,  3. ,  3. ,  3. ,  3. ],\n",
       "       [ 4.6,  4.6,  4.6,  4.6,  4.6],\n",
       "       [ 6.6,  6.6,  6.6,  6.6,  6.6],\n",
       "       [ 8.6,  8.6,  8.6,  8.6,  8.6],\n",
       "       [11. , 11. , 11. , 11. , 11. ],\n",
       "       [12.8, 12.8, 12.8, 12.8, 12.8],\n",
       "       [14.8, 14.8, 14.8, 14.8, 14.8],\n",
       "       [17.2, 17.2, 17.2, 17.2, 17.2],\n",
       "       [20.4, 20.4, 20.4, 20.4, 20.4],\n",
       "       [23.2, 23.2, 23.2, 23.2, 23.2]])"
      ]
     },
     "execution_count": 16,
     "metadata": {},
     "output_type": "execute_result"
    }
   ],
   "source": [
    "bin_1"
   ]
  },
  {
   "cell_type": "code",
   "execution_count": 17,
   "metadata": {},
   "outputs": [
    {
     "data": {
      "text/plain": [
       "array([[ 2.,  2.,  2.,  2.,  2.],\n",
       "       [ 3.,  3.,  3.,  3.,  3.],\n",
       "       [ 7.,  7.,  7.,  7.,  7.],\n",
       "       [ 9.,  9.,  9.,  9.,  9.],\n",
       "       [12., 12., 12., 12., 12.],\n",
       "       [12., 12., 12., 12., 12.],\n",
       "       [15., 15., 15., 15., 15.],\n",
       "       [16., 16., 16., 16., 16.],\n",
       "       [19., 19., 19., 19., 19.],\n",
       "       [24., 24., 24., 24., 24.]])"
      ]
     },
     "execution_count": 17,
     "metadata": {},
     "output_type": "execute_result"
    }
   ],
   "source": [
    "bin_2"
   ]
  },
  {
   "cell_type": "code",
   "execution_count": 18,
   "metadata": {},
   "outputs": [
    {
     "data": {
      "text/plain": [
       "array([[ 1.,  1.,  1.,  1.,  7.],\n",
       "       [ 2.,  2.,  2.,  9.,  9.],\n",
       "       [ 2.,  2.,  2., 12., 12.],\n",
       "       [ 3.,  3., 12., 12., 12.],\n",
       "       [ 7.,  7., 15., 15., 15.],\n",
       "       [ 9.,  9.,  9., 16., 16.],\n",
       "       [12., 12., 12., 19., 19.],\n",
       "       [12., 12., 12., 24., 24.],\n",
       "       [15., 15., 15., 28., 28.],\n",
       "       [16., 16., 29., 29., 29.]])"
      ]
     },
     "execution_count": 18,
     "metadata": {},
     "output_type": "execute_result"
    }
   ],
   "source": [
    "bin_3"
   ]
  },
  {
   "cell_type": "markdown",
   "metadata": {},
   "source": [
    "\n",
    "# CLUSTER ANALYSIS"
   ]
  },
  {
   "cell_type": "code",
   "execution_count": 19,
   "metadata": {
    "collapsed": true
   },
   "outputs": [],
   "source": [
    "df = pd.read_csv(\"iris.csv\",header=None) #load the dataset"
   ]
  },
  {
   "cell_type": "code",
   "execution_count": 20,
   "metadata": {
    "collapsed": true
   },
   "outputs": [],
   "source": [
    "df = df.values"
   ]
  },
  {
   "cell_type": "code",
   "execution_count": 21,
   "metadata": {
    "collapsed": true
   },
   "outputs": [],
   "source": [
    "dataset = df[:,0:4]\n",
    "target = df[:,4]"
   ]
  },
  {
   "cell_type": "code",
   "execution_count": 22,
   "metadata": {},
   "outputs": [
    {
     "data": {
      "text/plain": [
       "KMeans(algorithm='auto', copy_x=True, init='k-means++', max_iter=300,\n",
       "    n_clusters=3, n_init=10, n_jobs=1, precompute_distances='auto',\n",
       "    random_state=0, tol=0.0001, verbose=0)"
      ]
     },
     "execution_count": 22,
     "metadata": {},
     "output_type": "execute_result"
    }
   ],
   "source": [
    "from sklearn.cluster import KMeans\n",
    "\n",
    "kmeans = KMeans(n_clusters = 3, max_iter = 300, n_init = 10, random_state = 0)\n",
    "kmeans.fit(dataset)    "
   ]
  },
  {
   "cell_type": "code",
   "execution_count": 23,
   "metadata": {
    "collapsed": true
   },
   "outputs": [],
   "source": [
    "y_pred = kmeans.predict(dataset)"
   ]
  },
  {
   "cell_type": "code",
   "execution_count": 24,
   "metadata": {},
   "outputs": [
    {
     "data": {
      "text/plain": [
       "array([1, 1, 1, 1, 1, 1, 1, 1, 1, 1, 1, 1, 1, 1, 1, 1, 1, 1, 1, 1, 1, 1,\n",
       "       1, 1, 1, 1, 1, 1, 1, 1, 1, 1, 1, 1, 1, 1, 1, 1, 1, 1, 1, 1, 1, 1,\n",
       "       1, 1, 1, 1, 1, 1, 0, 0, 2, 0, 0, 0, 0, 0, 0, 0, 0, 0, 0, 0, 0, 0,\n",
       "       0, 0, 0, 0, 0, 0, 0, 0, 0, 0, 0, 2, 0, 0, 0, 0, 0, 0, 0, 0, 0, 0,\n",
       "       0, 0, 0, 0, 0, 0, 0, 0, 0, 0, 0, 0, 2, 0, 2, 2, 2, 2, 0, 2, 2, 2,\n",
       "       2, 2, 2, 0, 0, 2, 2, 2, 2, 0, 2, 0, 2, 0, 2, 2, 0, 0, 2, 2, 2, 2,\n",
       "       2, 0, 2, 2, 2, 2, 0, 2, 2, 2, 0, 2, 2, 2, 0, 2, 2, 0])"
      ]
     },
     "execution_count": 24,
     "metadata": {},
     "output_type": "execute_result"
    }
   ],
   "source": [
    "y_pred\n"
   ]
  },
  {
   "cell_type": "code",
   "execution_count": 25,
   "metadata": {
    "scrolled": true
   },
   "outputs": [
    {
     "data": {
      "text/plain": [
       "<matplotlib.legend.Legend at 0x23ddb301a58>"
      ]
     },
     "execution_count": 25,
     "metadata": {},
     "output_type": "execute_result"
    },
    {
     "data": {
      "image/png": "[encoded data removed]",
      "text/plain": [
       "<Figure size 432x288 with 1 Axes>"
      ]
     },
     "metadata": {},
     "output_type": "display_data"
    }
   ],
   "source": [
    "plt.scatter(dataset[y_pred == 0, 0], dataset[y_pred == 0, 1], s = 100, c = 'red', label = 'Iris-setosa')\n",
    "plt.scatter(dataset[y_pred == 1, 0], dataset[y_pred == 1, 1], s = 100, c = 'blue', label = 'Iris-versicolour')\n",
    "plt.scatter(dataset[y_pred == 2, 0], dataset[y_pred == 2, 1], s = 100, c = 'green', label = 'Iris-virginica')\n",
    "\n",
    "#Plotting the centroids of the clusters\n",
    "plt.scatter(kmeans.cluster_centers_[:, 0], kmeans.cluster_centers_[:,1], s = 100, c = 'yellow', label = 'Centroids')\n",
    "\n",
    "plt.legend()"
   ]
  },
  {
   "cell_type": "code",
   "execution_count": 26,
   "metadata": {},
   "outputs": [
    {
     "data": {
      "text/plain": [
       "<matplotlib.legend.Legend at 0x23ddb4a6d68>"
      ]
     },
     "execution_count": 26,
     "metadata": {},
     "output_type": "execute_result"
    },
    {
     "data": {
      "image/png": "[encoded data removed]",
      "text/plain": [
       "<Figure size 432x288 with 1 Axes>"
      ]
     },
     "metadata": {},
     "output_type": "display_data"
    }
   ],
   "source": [
    "plt.scatter(dataset[y_pred == 0, 2], dataset[y_pred == 0, 3], s = 100, c = 'red', label = 'Iris-setosa')\n",
    "plt.scatter(dataset[y_pred == 1, 2], dataset[y_pred == 1, 3], s = 100, c = 'blue', label = 'Iris-versicolour')\n",
    "plt.scatter(dataset[y_pred == 2, 2], dataset[y_pred == 2, 3], s = 100, c = 'green', label = 'Iris-virginica')\n",
    "\n",
    "#Plotting the centroids of the clusters\n",
    "plt.scatter(kmeans.cluster_centers_[:, 2], kmeans.cluster_centers_[:,3], s = 100, c = 'yellow', label = 'Centroids')\n",
    "\n",
    "plt.legend()"
   ]
  },
  {
   "cell_type": "code",
   "execution_count": 27,
   "metadata": {},
   "outputs": [
    {
     "data": {
      "text/plain": [
       "array([[5.9016129 , 2.7483871 , 4.39354839, 1.43387097],\n",
       "       [5.006     , 3.418     , 1.464     , 0.244     ],\n",
       "       [6.85      , 3.07368421, 5.74210526, 2.07105263]])"
      ]
     },
     "execution_count": 27,
     "metadata": {},
     "output_type": "execute_result"
    }
   ],
   "source": [
    "kmeans.cluster_centers_"
   ]
  },
  {
   "cell_type": "code",
   "execution_count": 28,
   "metadata": {},
   "outputs": [
    {
     "data": {
      "text/plain": [
       "600"
      ]
     },
     "execution_count": 28,
     "metadata": {},
     "output_type": "execute_result"
    }
   ],
   "source": [
    "np.size(dataset)"
   ]
  },
  {
   "cell_type": "code",
   "execution_count": 30,
   "metadata": {},
   "outputs": [
    {
     "name": "stdout",
     "output_type": "stream",
     "text": [
      "7.9 4.4 6.9 2.5\n",
      "4.3 2.0 1.0 0.1\n"
     ]
    }
   ],
   "source": [
    "print(np.max(dataset[:,0]),np.max(dataset[:,1]),np.max(dataset[:,2]),np.max(dataset[:,3]))\n",
    "print(np.min(dataset[:,0]),np.min(dataset[:,1]),np.min(dataset[:,2]),np.min(dataset[:,3]))"
   ]
  },
  {
   "cell_type": "code",
   "execution_count": 32,
   "metadata": {},
   "outputs": [],
   "source": [
    "dis_data = dataset"
   ]
  },
  {
   "cell_type": "code",
   "execution_count": 33,
   "metadata": {
    "collapsed": true
   },
   "outputs": [],
   "source": [
    "ctr = kmeans.cluster_centers_"
   ]
  },
  {
   "cell_type": "code",
   "execution_count": 34,
   "metadata": {},
   "outputs": [
    {
     "data": {
      "text/plain": [
       "array([5.9016129 , 2.7483871 , 4.39354839, 1.43387097])"
      ]
     },
     "execution_count": 34,
     "metadata": {},
     "output_type": "execute_result"
    }
   ],
   "source": [
    "ctr[0]"
   ]
  },
  {
   "cell_type": "code",
   "execution_count": 38,
   "metadata": {},
   "outputs": [],
   "source": [
    "for i in range(len(ctr)):\n",
    "    dis_data[y_pred == i] = ctr[i]"
   ]
  },
  {
   "cell_type": "code",
   "execution_count": 39,
   "metadata": {},
   "outputs": [
    {
     "data": {
      "text/plain": [
       "array([[5.006, 3.418, 1.4640000000000009, 0.24400000000000055],\n",
       "       [5.006, 3.418, 1.4640000000000009, 0.24400000000000055],\n",
       "       [5.006, 3.418, 1.4640000000000009, 0.24400000000000055],\n",
       "       [5.006, 3.418, 1.4640000000000009, 0.24400000000000055],\n",
       "       [5.006, 3.418, 1.4640000000000009, 0.24400000000000055],\n",
       "       [5.006, 3.418, 1.4640000000000009, 0.24400000000000055],\n",
       "       [5.006, 3.418, 1.4640000000000009, 0.24400000000000055],\n",
       "       [5.006, 3.418, 1.4640000000000009, 0.24400000000000055],\n",
       "       [5.006, 3.418, 1.4640000000000009, 0.24400000000000055],\n",
       "       [5.006, 3.418, 1.4640000000000009, 0.24400000000000055],\n",
       "       [5.006, 3.418, 1.4640000000000009, 0.24400000000000055],\n",
       "       [5.006, 3.418, 1.4640000000000009, 0.24400000000000055],\n",
       "       [5.006, 3.418, 1.4640000000000009, 0.24400000000000055],\n",
       "       [5.006, 3.418, 1.4640000000000009, 0.24400000000000055],\n",
       "       [5.006, 3.418, 1.4640000000000009, 0.24400000000000055],\n",
       "       [5.006, 3.418, 1.4640000000000009, 0.24400000000000055],\n",
       "       [5.006, 3.418, 1.4640000000000009, 0.24400000000000055],\n",
       "       [5.006, 3.418, 1.4640000000000009, 0.24400000000000055],\n",
       "       [5.006, 3.418, 1.4640000000000009, 0.24400000000000055],\n",
       "       [5.006, 3.418, 1.4640000000000009, 0.24400000000000055],\n",
       "       [5.006, 3.418, 1.4640000000000009, 0.24400000000000055],\n",
       "       [5.006, 3.418, 1.4640000000000009, 0.24400000000000055],\n",
       "       [5.006, 3.418, 1.4640000000000009, 0.24400000000000055],\n",
       "       [5.006, 3.418, 1.4640000000000009, 0.24400000000000055],\n",
       "       [5.006, 3.418, 1.4640000000000009, 0.24400000000000055],\n",
       "       [5.006, 3.418, 1.4640000000000009, 0.24400000000000055],\n",
       "       [5.006, 3.418, 1.4640000000000009, 0.24400000000000055],\n",
       "       [5.006, 3.418, 1.4640000000000009, 0.24400000000000055],\n",
       "       [5.006, 3.418, 1.4640000000000009, 0.24400000000000055],\n",
       "       [5.006, 3.418, 1.4640000000000009, 0.24400000000000055],\n",
       "       [5.006, 3.418, 1.4640000000000009, 0.24400000000000055],\n",
       "       [5.006, 3.418, 1.4640000000000009, 0.24400000000000055],\n",
       "       [5.006, 3.418, 1.4640000000000009, 0.24400000000000055],\n",
       "       [5.006, 3.418, 1.4640000000000009, 0.24400000000000055],\n",
       "       [5.006, 3.418, 1.4640000000000009, 0.24400000000000055],\n",
       "       [5.006, 3.418, 1.4640000000000009, 0.24400000000000055],\n",
       "       [5.006, 3.418, 1.4640000000000009, 0.24400000000000055],\n",
       "       [5.006, 3.418, 1.4640000000000009, 0.24400000000000055],\n",
       "       [5.006, 3.418, 1.4640000000000009, 0.24400000000000055],\n",
       "       [5.006, 3.418, 1.4640000000000009, 0.24400000000000055],\n",
       "       [5.006, 3.418, 1.4640000000000009, 0.24400000000000055],\n",
       "       [5.006, 3.418, 1.4640000000000009, 0.24400000000000055],\n",
       "       [5.006, 3.418, 1.4640000000000009, 0.24400000000000055],\n",
       "       [5.006, 3.418, 1.4640000000000009, 0.24400000000000055],\n",
       "       [5.006, 3.418, 1.4640000000000009, 0.24400000000000055],\n",
       "       [5.006, 3.418, 1.4640000000000009, 0.24400000000000055],\n",
       "       [5.006, 3.418, 1.4640000000000009, 0.24400000000000055],\n",
       "       [5.006, 3.418, 1.4640000000000009, 0.24400000000000055],\n",
       "       [5.006, 3.418, 1.4640000000000009, 0.24400000000000055],\n",
       "       [5.006, 3.418, 1.4640000000000009, 0.24400000000000055],\n",
       "       [5.901612903225806, 2.7483870967741937, 4.393548387096774,\n",
       "        1.4338709677419355],\n",
       "       [5.901612903225806, 2.7483870967741937, 4.393548387096774,\n",
       "        1.4338709677419355],\n",
       "       [6.85, 3.0736842105263156, 5.742105263157894, 2.0710526315789473],\n",
       "       [5.901612903225806, 2.7483870967741937, 4.393548387096774,\n",
       "        1.4338709677419355],\n",
       "       [5.901612903225806, 2.7483870967741937, 4.393548387096774,\n",
       "        1.4338709677419355],\n",
       "       [5.901612903225806, 2.7483870967741937, 4.393548387096774,\n",
       "        1.4338709677419355],\n",
       "       [5.901612903225806, 2.7483870967741937, 4.393548387096774,\n",
       "        1.4338709677419355],\n",
       "       [5.901612903225806, 2.7483870967741937, 4.393548387096774,\n",
       "        1.4338709677419355],\n",
       "       [5.901612903225806, 2.7483870967741937, 4.393548387096774,\n",
       "        1.4338709677419355],\n",
       "       [5.901612903225806, 2.7483870967741937, 4.393548387096774,\n",
       "        1.4338709677419355],\n",
       "       [5.901612903225806, 2.7483870967741937, 4.393548387096774,\n",
       "        1.4338709677419355],\n",
       "       [5.901612903225806, 2.7483870967741937, 4.393548387096774,\n",
       "        1.4338709677419355],\n",
       "       [5.901612903225806, 2.7483870967741937, 4.393548387096774,\n",
       "        1.4338709677419355],\n",
       "       [5.901612903225806, 2.7483870967741937, 4.393548387096774,\n",
       "        1.4338709677419355],\n",
       "       [5.901612903225806, 2.7483870967741937, 4.393548387096774,\n",
       "        1.4338709677419355],\n",
       "       [5.901612903225806, 2.7483870967741937, 4.393548387096774,\n",
       "        1.4338709677419355],\n",
       "       [5.901612903225806, 2.7483870967741937, 4.393548387096774,\n",
       "        1.4338709677419355],\n",
       "       [5.901612903225806, 2.7483870967741937, 4.393548387096774,\n",
       "        1.4338709677419355],\n",
       "       [5.901612903225806, 2.7483870967741937, 4.393548387096774,\n",
       "        1.4338709677419355],\n",
       "       [5.901612903225806, 2.7483870967741937, 4.393548387096774,\n",
       "        1.4338709677419355],\n",
       "       [5.901612903225806, 2.7483870967741937, 4.393548387096774,\n",
       "        1.4338709677419355],\n",
       "       [5.901612903225806, 2.7483870967741937, 4.393548387096774,\n",
       "        1.4338709677419355],\n",
       "       [5.901612903225806, 2.7483870967741937, 4.393548387096774,\n",
       "        1.4338709677419355],\n",
       "       [5.901612903225806, 2.7483870967741937, 4.393548387096774,\n",
       "        1.4338709677419355],\n",
       "       [5.901612903225806, 2.7483870967741937, 4.393548387096774,\n",
       "        1.4338709677419355],\n",
       "       [5.901612903225806, 2.7483870967741937, 4.393548387096774,\n",
       "        1.4338709677419355],\n",
       "       [5.901612903225806, 2.7483870967741937, 4.393548387096774,\n",
       "        1.4338709677419355],\n",
       "       [6.85, 3.0736842105263156, 5.742105263157894, 2.0710526315789473],\n",
       "       [5.901612903225806, 2.7483870967741937, 4.393548387096774,\n",
       "        1.4338709677419355],\n",
       "       [5.901612903225806, 2.7483870967741937, 4.393548387096774,\n",
       "        1.4338709677419355],\n",
       "       [5.901612903225806, 2.7483870967741937, 4.393548387096774,\n",
       "        1.4338709677419355],\n",
       "       [5.901612903225806, 2.7483870967741937, 4.393548387096774,\n",
       "        1.4338709677419355],\n",
       "       [5.901612903225806, 2.7483870967741937, 4.393548387096774,\n",
       "        1.4338709677419355],\n",
       "       [5.901612903225806, 2.7483870967741937, 4.393548387096774,\n",
       "        1.4338709677419355],\n",
       "       [5.901612903225806, 2.7483870967741937, 4.393548387096774,\n",
       "        1.4338709677419355],\n",
       "       [5.901612903225806, 2.7483870967741937, 4.393548387096774,\n",
       "        1.4338709677419355],\n",
       "       [5.901612903225806, 2.7483870967741937, 4.393548387096774,\n",
       "        1.4338709677419355],\n",
       "       [5.901612903225806, 2.7483870967741937, 4.393548387096774,\n",
       "        1.4338709677419355],\n",
       "       [5.901612903225806, 2.7483870967741937, 4.393548387096774,\n",
       "        1.4338709677419355],\n",
       "       [5.901612903225806, 2.7483870967741937, 4.393548387096774,\n",
       "        1.4338709677419355],\n",
       "       [5.901612903225806, 2.7483870967741937, 4.393548387096774,\n",
       "        1.4338709677419355],\n",
       "       [5.901612903225806, 2.7483870967741937, 4.393548387096774,\n",
       "        1.4338709677419355],\n",
       "       [5.901612903225806, 2.7483870967741937, 4.393548387096774,\n",
       "        1.4338709677419355],\n",
       "       [5.901612903225806, 2.7483870967741937, 4.393548387096774,\n",
       "        1.4338709677419355],\n",
       "       [5.901612903225806, 2.7483870967741937, 4.393548387096774,\n",
       "        1.4338709677419355],\n",
       "       [5.901612903225806, 2.7483870967741937, 4.393548387096774,\n",
       "        1.4338709677419355],\n",
       "       [5.901612903225806, 2.7483870967741937, 4.393548387096774,\n",
       "        1.4338709677419355],\n",
       "       [5.901612903225806, 2.7483870967741937, 4.393548387096774,\n",
       "        1.4338709677419355],\n",
       "       [5.901612903225806, 2.7483870967741937, 4.393548387096774,\n",
       "        1.4338709677419355],\n",
       "       [5.901612903225806, 2.7483870967741937, 4.393548387096774,\n",
       "        1.4338709677419355],\n",
       "       [6.85, 3.0736842105263156, 5.742105263157894, 2.0710526315789473],\n",
       "       [5.901612903225806, 2.7483870967741937, 4.393548387096774,\n",
       "        1.4338709677419355],\n",
       "       [6.85, 3.0736842105263156, 5.742105263157894, 2.0710526315789473],\n",
       "       [6.85, 3.0736842105263156, 5.742105263157894, 2.0710526315789473],\n",
       "       [6.85, 3.0736842105263156, 5.742105263157894, 2.0710526315789473],\n",
       "       [6.85, 3.0736842105263156, 5.742105263157894, 2.0710526315789473],\n",
       "       [5.901612903225806, 2.7483870967741937, 4.393548387096774,\n",
       "        1.4338709677419355],\n",
       "       [6.85, 3.0736842105263156, 5.742105263157894, 2.0710526315789473],\n",
       "       [6.85, 3.0736842105263156, 5.742105263157894, 2.0710526315789473],\n",
       "       [6.85, 3.0736842105263156, 5.742105263157894, 2.0710526315789473],\n",
       "       [6.85, 3.0736842105263156, 5.742105263157894, 2.0710526315789473],\n",
       "       [6.85, 3.0736842105263156, 5.742105263157894, 2.0710526315789473],\n",
       "       [6.85, 3.0736842105263156, 5.742105263157894, 2.0710526315789473],\n",
       "       [5.901612903225806, 2.7483870967741937, 4.393548387096774,\n",
       "        1.4338709677419355],\n",
       "       [5.901612903225806, 2.7483870967741937, 4.393548387096774,\n",
       "        1.4338709677419355],\n",
       "       [6.85, 3.0736842105263156, 5.742105263157894, 2.0710526315789473],\n",
       "       [6.85, 3.0736842105263156, 5.742105263157894, 2.0710526315789473],\n",
       "       [6.85, 3.0736842105263156, 5.742105263157894, 2.0710526315789473],\n",
       "       [6.85, 3.0736842105263156, 5.742105263157894, 2.0710526315789473],\n",
       "       [5.901612903225806, 2.7483870967741937, 4.393548387096774,\n",
       "        1.4338709677419355],\n",
       "       [6.85, 3.0736842105263156, 5.742105263157894, 2.0710526315789473],\n",
       "       [5.901612903225806, 2.7483870967741937, 4.393548387096774,\n",
       "        1.4338709677419355],\n",
       "       [6.85, 3.0736842105263156, 5.742105263157894, 2.0710526315789473],\n",
       "       [5.901612903225806, 2.7483870967741937, 4.393548387096774,\n",
       "        1.4338709677419355],\n",
       "       [6.85, 3.0736842105263156, 5.742105263157894, 2.0710526315789473],\n",
       "       [6.85, 3.0736842105263156, 5.742105263157894, 2.0710526315789473],\n",
       "       [5.901612903225806, 2.7483870967741937, 4.393548387096774,\n",
       "        1.4338709677419355],\n",
       "       [5.901612903225806, 2.7483870967741937, 4.393548387096774,\n",
       "        1.4338709677419355],\n",
       "       [6.85, 3.0736842105263156, 5.742105263157894, 2.0710526315789473],\n",
       "       [6.85, 3.0736842105263156, 5.742105263157894, 2.0710526315789473],\n",
       "       [6.85, 3.0736842105263156, 5.742105263157894, 2.0710526315789473],\n",
       "       [6.85, 3.0736842105263156, 5.742105263157894, 2.0710526315789473],\n",
       "       [6.85, 3.0736842105263156, 5.742105263157894, 2.0710526315789473],\n",
       "       [5.901612903225806, 2.7483870967741937, 4.393548387096774,\n",
       "        1.4338709677419355],\n",
       "       [6.85, 3.0736842105263156, 5.742105263157894, 2.0710526315789473],\n",
       "       [6.85, 3.0736842105263156, 5.742105263157894, 2.0710526315789473],\n",
       "       [6.85, 3.0736842105263156, 5.742105263157894, 2.0710526315789473],\n",
       "       [6.85, 3.0736842105263156, 5.742105263157894, 2.0710526315789473],\n",
       "       [5.901612903225806, 2.7483870967741937, 4.393548387096774,\n",
       "        1.4338709677419355],\n",
       "       [6.85, 3.0736842105263156, 5.742105263157894, 2.0710526315789473],\n",
       "       [6.85, 3.0736842105263156, 5.742105263157894, 2.0710526315789473],\n",
       "       [6.85, 3.0736842105263156, 5.742105263157894, 2.0710526315789473],\n",
       "       [5.901612903225806, 2.7483870967741937, 4.393548387096774,\n",
       "        1.4338709677419355],\n",
       "       [6.85, 3.0736842105263156, 5.742105263157894, 2.0710526315789473],\n",
       "       [6.85, 3.0736842105263156, 5.742105263157894, 2.0710526315789473],\n",
       "       [6.85, 3.0736842105263156, 5.742105263157894, 2.0710526315789473],\n",
       "       [5.901612903225806, 2.7483870967741937, 4.393548387096774,\n",
       "        1.4338709677419355],\n",
       "       [6.85, 3.0736842105263156, 5.742105263157894, 2.0710526315789473],\n",
       "       [6.85, 3.0736842105263156, 5.742105263157894, 2.0710526315789473],\n",
       "       [5.901612903225806, 2.7483870967741937, 4.393548387096774,\n",
       "        1.4338709677419355]], dtype=object)"
      ]
     },
     "execution_count": 39,
     "metadata": {},
     "output_type": "execute_result"
    }
   ],
   "source": [
    "dis_data"
   ]
  },
  {
   "cell_type": "code",
   "execution_count": 40,
   "metadata": {},
   "outputs": [
    {
     "data": {
      "text/plain": [
       "<matplotlib.collections.PathCollection at 0x23ddb6ecb70>"
      ]
     },
     "execution_count": 40,
     "metadata": {},
     "output_type": "execute_result"
    },
    {
     "data": {
      "image/png": "[encoded data removed]",
      "text/plain": [
       "<Figure size 432x288 with 1 Axes>"
      ]
     },
     "metadata": {},
     "output_type": "display_data"
    }
   ],
   "source": [
    "plt.scatter(dis_data[:, 0], dis_data[:,1], s = 100, c = 'red')"
   ]
  },
  {
   "cell_type": "markdown",
   "metadata": {},
   "source": [
    "# histogram"
   ]
  },
  {
   "cell_type": "code",
   "execution_count": 44,
   "metadata": {},
   "outputs": [],
   "source": [
    "#plt.hist(x=bin_3)"
   ]
  },
  {
   "cell_type": "code",
   "execution_count": null,
   "metadata": {
    "collapsed": true
   },
   "outputs": [],
   "source": []
  }
 ],
 "metadata": {
  "kernelspec": {
   "display_name": "Python 3",
   "language": "python",
   "name": "python3"
  },
  "language_info": {
   "codemirror_mode": {
    "name": "ipython",
    "version": 3
   },
   "file_extension": ".py",
   "mimetype": "text/x-python",
   "name": "python",
   "nbconvert_exporter": "python",
   "pygments_lexer": "ipython3",
   "version": "3.6.3"
  }
 },
 "nbformat": 4,
 "nbformat_minor": 2
}
